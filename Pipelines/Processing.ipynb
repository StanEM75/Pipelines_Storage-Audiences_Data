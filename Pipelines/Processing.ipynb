{
 "cells": [
  {
   "cell_type": "markdown",
   "id": "c88f5f55-65d5-447c-bc5f-c8734bd47e4d",
   "metadata": {},
   "source": [
    "## Imports"
   ]
  },
  {
   "cell_type": "code",
   "execution_count": 399,
   "id": "2b2737d6-1131-4594-b6b1-5966bcf36c3e",
   "metadata": {},
   "outputs": [],
   "source": [
    "import pandas as pd\n",
    "from datetime import datetime\n",
    "import re"
   ]
  },
  {
   "cell_type": "markdown",
   "id": "4af580f2-bd9e-4e20-ad40-752bd0e7e471",
   "metadata": {},
   "source": [
    "### JSON"
   ]
  },
  {
   "cell_type": "markdown",
   "id": "93ce6766-831f-48c2-ae19-0d3323f1fa1d",
   "metadata": {},
   "source": [
    "#### ATP data"
   ]
  },
  {
   "cell_type": "code",
   "execution_count": 400,
   "id": "2b6f4e9e-c005-4651-b7a8-bfde4f491358",
   "metadata": {},
   "outputs": [],
   "source": [
    "# JSON loading\n",
    "with open('data/ATP.json') as file:\n",
    "    data = json.load(file)\n",
    "\n",
    "# Access data through key 'us_open_2023'\n",
    "matches = data['us_open_2023']\n",
    "\n",
    "# Convert to Dataframe\n",
    "atp = pd.DataFrame(matches)"
   ]
  },
  {
   "cell_type": "markdown",
   "id": "7267ee56-f598-4c19-a0c1-ac46503f0883",
   "metadata": {},
   "source": [
    "#### World Cup"
   ]
  },
  {
   "cell_type": "code",
   "execution_count": 401,
   "id": "dd92e782-aebd-4bdf-b571-a024b3386179",
   "metadata": {},
   "outputs": [],
   "source": [
    "# JSON loading\n",
    "with open('data/World_Cup_2022.json') as file:\n",
    "    data = json.load(file)\n",
    "\n",
    "# Access data through key 'us_open_2023'\n",
    "matches = data['matches']\n",
    "\n",
    "# Convert to Dataframe\n",
    "wc22 = pd.DataFrame(matches)"
   ]
  },
  {
   "cell_type": "markdown",
   "id": "74acb8ae-0743-4b90-b5f0-ec859b189e4b",
   "metadata": {},
   "source": [
    "### Excel "
   ]
  },
  {
   "cell_type": "markdown",
   "id": "13bf1a87-0d9d-4ec8-87ad-eb6339e471c1",
   "metadata": {},
   "source": [
    "#### Sports Events"
   ]
  },
  {
   "cell_type": "code",
   "execution_count": 402,
   "id": "579035ac-4163-4c1e-8d48-86f29f7818a3",
   "metadata": {},
   "outputs": [],
   "source": [
    "sports = pd.read_excel('data/Sports_events.xlsx')"
   ]
  },
  {
   "cell_type": "markdown",
   "id": "227e0301-3cf3-48b0-ad79-fba8b522067f",
   "metadata": {},
   "source": [
    "### CSV"
   ]
  },
  {
   "cell_type": "markdown",
   "id": "58a8a4f1-f53d-4c34-835f-78589101dfe7",
   "metadata": {},
   "source": [
    "#### IMDB Audiences"
   ]
  },
  {
   "cell_type": "code",
   "execution_count": 403,
   "id": "7dc76c88-9cd7-4aba-9c21-aaab3819785c",
   "metadata": {},
   "outputs": [],
   "source": [
    "imdb = pd.read_csv('data/imdb_data.csv')"
   ]
  },
  {
   "cell_type": "markdown",
   "id": "31fa1738-9ae5-40bf-927b-e0bc15699af4",
   "metadata": {},
   "source": [
    "#### Movies"
   ]
  },
  {
   "cell_type": "code",
   "execution_count": 404,
   "id": "146a4103-178d-4cd1-a55e-89f5b2c4f9bd",
   "metadata": {},
   "outputs": [],
   "source": [
    "movies = pd.read_csv('data/Movies_dataset.csv')"
   ]
  },
  {
   "cell_type": "markdown",
   "id": "c1f7ca98-590c-41ac-8560-f22af7becb09",
   "metadata": {},
   "source": [
    "#### Korean Movies"
   ]
  },
  {
   "cell_type": "code",
   "execution_count": 405,
   "id": "6a8312d1-7d6f-4412-b671-05895c7fcc21",
   "metadata": {},
   "outputs": [],
   "source": [
    "k_movies = pd.read_csv('data/top100_kdrama.csv')"
   ]
  },
  {
   "cell_type": "markdown",
   "id": "f224252c-7823-4e6e-bc5e-ee918e0937e0",
   "metadata": {},
   "source": [
    "## Data Cleansing"
   ]
  },
  {
   "cell_type": "markdown",
   "id": "7c7ac121-c7f0-4b7a-a7c7-5ef9e9bcfa03",
   "metadata": {},
   "source": [
    "### ATP"
   ]
  },
  {
   "cell_type": "code",
   "execution_count": 406,
   "id": "501e33ac-f0b1-450c-a7a4-4b3dbb0a64e8",
   "metadata": {},
   "outputs": [
    {
     "data": {
      "text/plain": [
       "date            object\n",
       "match           object\n",
       "location        object\n",
       "time            object\n",
       "final_score     object\n",
       "rating         float64\n",
       "reach            int64\n",
       "dtype: object"
      ]
     },
     "execution_count": 406,
     "metadata": {},
     "output_type": "execute_result"
    }
   ],
   "source": [
    "atp.dtypes"
   ]
  },
  {
   "cell_type": "markdown",
   "id": "4335f55f-9c8a-4574-a60d-41cc783cc9de",
   "metadata": {},
   "source": [
    "We need to change the 2 columns : date and time to put it as date."
   ]
  },
  {
   "cell_type": "markdown",
   "id": "b356313e-6a2a-4562-8c49-3f52610f04e1",
   "metadata": {},
   "source": [
    "#### Date into datetime"
   ]
  },
  {
   "cell_type": "code",
   "execution_count": 407,
   "id": "3e602336-af19-4f7b-8451-ec2eba926d2f",
   "metadata": {},
   "outputs": [],
   "source": [
    "atp['date'] = pd.to_datetime(atp['date'])"
   ]
  },
  {
   "cell_type": "markdown",
   "id": "7699556c-11fd-44b3-b11f-d145893715eb",
   "metadata": {},
   "source": [
    "#### Time into time format"
   ]
  },
  {
   "cell_type": "code",
   "execution_count": 408,
   "id": "f1cd2a41-7495-4cd7-a830-8f29dff5318f",
   "metadata": {},
   "outputs": [],
   "source": [
    "atp['time'] = pd.to_datetime(atp['time'], format='%H:%M').dt.time"
   ]
  },
  {
   "cell_type": "markdown",
   "id": "a1ba8232-17cc-4d6d-b7fa-985dc42ed984",
   "metadata": {},
   "source": [
    "#### New Columns Names"
   ]
  },
  {
   "cell_type": "code",
   "execution_count": 409,
   "id": "d5443bab-2ca2-42a2-ad8d-c51102bad159",
   "metadata": {},
   "outputs": [],
   "source": [
    "atp.columns = ['Date', 'Game', 'Location', 'Time', 'Score', 'Rating', 'Reach']"
   ]
  },
  {
   "cell_type": "markdown",
   "id": "7cdd080e-b754-41bb-b694-185bcb6ac4ee",
   "metadata": {},
   "source": [
    "### World Cup"
   ]
  },
  {
   "cell_type": "code",
   "execution_count": 410,
   "id": "1203e4a6-8a1b-4143-946c-590378fd1dc7",
   "metadata": {},
   "outputs": [
    {
     "data": {
      "text/plain": [
       "date              object\n",
       "match             object\n",
       "location          object\n",
       "time              object\n",
       "final_score       object\n",
       "viewer_rating    float64\n",
       "reach_volume       int64\n",
       "dtype: object"
      ]
     },
     "execution_count": 410,
     "metadata": {},
     "output_type": "execute_result"
    }
   ],
   "source": [
    "wc22.dtypes"
   ]
  },
  {
   "cell_type": "markdown",
   "id": "666197df-d623-4b42-bf1a-77673ede566a",
   "metadata": {},
   "source": [
    "We need to change the 2 columns : date and time to put it as date."
   ]
  },
  {
   "cell_type": "markdown",
   "id": "4f3250cb-b28f-4e31-bfad-3fe1e447adaa",
   "metadata": {},
   "source": [
    "#### Date into date"
   ]
  },
  {
   "cell_type": "code",
   "execution_count": 411,
   "id": "9f6bff2e-bb71-4a9d-8cb2-3f97a37985a7",
   "metadata": {},
   "outputs": [],
   "source": [
    "wc22['date'] = pd.to_datetime(wc22['date'])"
   ]
  },
  {
   "cell_type": "markdown",
   "id": "f23e96bf-9a58-4f64-892e-b5cdaf72023a",
   "metadata": {},
   "source": [
    "#### Time into time format"
   ]
  },
  {
   "cell_type": "code",
   "execution_count": 412,
   "id": "fcd9227e-305f-46d0-bf18-cc5a8e4aba96",
   "metadata": {},
   "outputs": [],
   "source": [
    "wc22['time'] = pd.to_datetime(wc22['time'], format='%H:%M').dt.time"
   ]
  },
  {
   "cell_type": "markdown",
   "id": "bc4ad49e-2437-482a-80e6-38e8456cc43b",
   "metadata": {},
   "source": [
    "#### New Columns Names"
   ]
  },
  {
   "cell_type": "code",
   "execution_count": 413,
   "id": "4fb52297-c21d-4c8c-983c-87ee7903fd16",
   "metadata": {},
   "outputs": [],
   "source": [
    "wc22.columns = ['Date', 'Game', 'Location', 'Time', 'Score', 'Rating', 'Reach']"
   ]
  },
  {
   "cell_type": "markdown",
   "id": "c241804b-26dc-4590-8b91-2818adaeb85a",
   "metadata": {},
   "source": [
    "### Sports Events"
   ]
  },
  {
   "cell_type": "code",
   "execution_count": 414,
   "id": "37e07594-8c44-410a-866c-532d080328b0",
   "metadata": {},
   "outputs": [
    {
     "data": {
      "text/plain": [
       "Event                object\n",
       "Date                 object\n",
       "Location             object\n",
       "Reach (millions)    float64\n",
       "Time                 object\n",
       "Rating               object\n",
       "dtype: object"
      ]
     },
     "execution_count": 414,
     "metadata": {},
     "output_type": "execute_result"
    }
   ],
   "source": [
    "sports.dtypes"
   ]
  },
  {
   "cell_type": "markdown",
   "id": "2a2ef140-17a2-45e1-890f-759a9819a022",
   "metadata": {},
   "source": [
    "We need to change 3 columns : date, time and rating."
   ]
  },
  {
   "cell_type": "markdown",
   "id": "705d453e-f190-41da-8ef8-4c0234727c1b",
   "metadata": {},
   "source": [
    "#### Date into date"
   ]
  },
  {
   "cell_type": "code",
   "execution_count": 415,
   "id": "b344012e-a619-40c4-ba24-1287c41e6124",
   "metadata": {},
   "outputs": [
    {
     "name": "stderr",
     "output_type": "stream",
     "text": [
      "/var/folders/5q/f280wjd15s56_y9s5ntbx3rw0000gn/T/ipykernel_98386/2895554504.py:1: UserWarning: Could not infer format, so each element will be parsed individually, falling back to `dateutil`. To ensure parsing is consistent and as-expected, please specify a format.\n",
      "  sports['Date'] = pd.to_datetime(sports['Date'], errors='coerce')\n"
     ]
    }
   ],
   "source": [
    "sports['Date'] = pd.to_datetime(sports['Date'], errors='coerce')"
   ]
  },
  {
   "cell_type": "markdown",
   "id": "7b27b206-82cf-44b0-8516-054f04e3d2dc",
   "metadata": {},
   "source": [
    "#### Time into time format"
   ]
  },
  {
   "cell_type": "code",
   "execution_count": 416,
   "id": "b7a7b21d-47a6-44c3-9758-888ae272f361",
   "metadata": {},
   "outputs": [],
   "source": [
    "sports['Time'] = pd.to_datetime(sports['Time'], format='%H:%M', errors='coerce').dt.time"
   ]
  },
  {
   "cell_type": "markdown",
   "id": "816a862f-79d0-4942-9274-055d812f73ed",
   "metadata": {},
   "source": [
    "#### Rating into numeric"
   ]
  },
  {
   "cell_type": "code",
   "execution_count": 417,
   "id": "4c990fdb-93d4-425b-82e3-e3d68f013d10",
   "metadata": {},
   "outputs": [],
   "source": [
    "sports['Rating'] = pd.to_numeric(sports['Rating'], errors='coerce')\n",
    "\n",
    "sports['Rating'] = sports['Rating'].astype('float64')"
   ]
  },
  {
   "cell_type": "code",
   "execution_count": 418,
   "id": "266b9bc6-7aa1-4833-bc3b-071e7e47dfc3",
   "metadata": {},
   "outputs": [
    {
     "data": {
      "text/html": [
       "<div>\n",
       "<style scoped>\n",
       "    .dataframe tbody tr th:only-of-type {\n",
       "        vertical-align: middle;\n",
       "    }\n",
       "\n",
       "    .dataframe tbody tr th {\n",
       "        vertical-align: top;\n",
       "    }\n",
       "\n",
       "    .dataframe thead th {\n",
       "        text-align: right;\n",
       "    }\n",
       "</style>\n",
       "<table border=\"1\" class=\"dataframe\">\n",
       "  <thead>\n",
       "    <tr style=\"text-align: right;\">\n",
       "      <th></th>\n",
       "      <th>Event</th>\n",
       "      <th>Date</th>\n",
       "      <th>Location</th>\n",
       "      <th>Reach (millions)</th>\n",
       "      <th>Time</th>\n",
       "      <th>Rating</th>\n",
       "    </tr>\n",
       "  </thead>\n",
       "  <tbody>\n",
       "    <tr>\n",
       "      <th>0</th>\n",
       "      <td>Event 1</td>\n",
       "      <td>NaT</td>\n",
       "      <td>Arena B</td>\n",
       "      <td>167.62</td>\n",
       "      <td>05:26:00</td>\n",
       "      <td>2.1</td>\n",
       "    </tr>\n",
       "    <tr>\n",
       "      <th>1</th>\n",
       "      <td>Event 2</td>\n",
       "      <td>2021-12-03</td>\n",
       "      <td>Ground D</td>\n",
       "      <td>NaN</td>\n",
       "      <td>10:56:00</td>\n",
       "      <td>4.5</td>\n",
       "    </tr>\n",
       "    <tr>\n",
       "      <th>2</th>\n",
       "      <td>Event 3</td>\n",
       "      <td>2020-02-03</td>\n",
       "      <td>Arena B</td>\n",
       "      <td>382.39</td>\n",
       "      <td>NaT</td>\n",
       "      <td>4.3</td>\n",
       "    </tr>\n",
       "    <tr>\n",
       "      <th>3</th>\n",
       "      <td>Event 4</td>\n",
       "      <td>2019-01-19</td>\n",
       "      <td>Stadium A</td>\n",
       "      <td>377.11</td>\n",
       "      <td>10:19:00</td>\n",
       "      <td>NaN</td>\n",
       "    </tr>\n",
       "    <tr>\n",
       "      <th>4</th>\n",
       "      <td>Event 5</td>\n",
       "      <td>2023-12-13</td>\n",
       "      <td>Field C</td>\n",
       "      <td>132.01</td>\n",
       "      <td>01:25:00</td>\n",
       "      <td>9.6</td>\n",
       "    </tr>\n",
       "  </tbody>\n",
       "</table>\n",
       "</div>"
      ],
      "text/plain": [
       "     Event       Date   Location  Reach (millions)      Time  Rating\n",
       "0  Event 1        NaT    Arena B            167.62  05:26:00     2.1\n",
       "1  Event 2 2021-12-03   Ground D               NaN  10:56:00     4.5\n",
       "2  Event 3 2020-02-03    Arena B            382.39       NaT     4.3\n",
       "3  Event 4 2019-01-19  Stadium A            377.11  10:19:00     NaN\n",
       "4  Event 5 2023-12-13    Field C            132.01  01:25:00     9.6"
      ]
     },
     "execution_count": 418,
     "metadata": {},
     "output_type": "execute_result"
    }
   ],
   "source": [
    "sports.head()"
   ]
  },
  {
   "cell_type": "markdown",
   "id": "9d35e985-c16c-4a5e-969f-473fb7f34f28",
   "metadata": {},
   "source": [
    "#### Convert Reach into millions"
   ]
  },
  {
   "cell_type": "code",
   "execution_count": 419,
   "id": "503b5d5d-724f-4655-a53e-976dd1f52de1",
   "metadata": {},
   "outputs": [],
   "source": [
    "sports['Reach (millions)'] = sports['Reach (millions)']*1000000"
   ]
  },
  {
   "cell_type": "code",
   "execution_count": 420,
   "id": "aa51fe70-da82-4845-9175-1caae9f541ab",
   "metadata": {},
   "outputs": [],
   "source": [
    "sports.rename(columns={'Reach (millions)':'Reach'},inplace=True)"
   ]
  },
  {
   "cell_type": "markdown",
   "id": "36286f40-7e72-4727-9bc5-f432633daf5e",
   "metadata": {},
   "source": [
    "### IMDB Audiences"
   ]
  },
  {
   "cell_type": "markdown",
   "id": "0b243341-c335-4d87-a160-012cd651e04d",
   "metadata": {},
   "source": [
    "#### Split Name into 2 columns"
   ]
  },
  {
   "cell_type": "code",
   "execution_count": 421,
   "id": "b0839282-427d-431a-ba72-48a1c4cbb3c1",
   "metadata": {},
   "outputs": [],
   "source": [
    "# Remplacer les valeurs sans délimiteur par un format uniforme\n",
    "imdb['Name'] = imdb['Name'].apply(lambda x: x if '\\n' in x else x + '\\nUnknown')\n",
    "\n",
    "# Séparer la colonne en deux parties\n",
    "split_data = imdb['Name'].str.split('\\n', expand=True)\n",
    "\n",
    "# Assigner les colonnes après le split\n",
    "imdb[['Title', 'Year']] = split_data[[0, 1]]"
   ]
  },
  {
   "cell_type": "code",
   "execution_count": 422,
   "id": "4ed83d8a-67e3-44dc-8a6e-cc9be20b94a9",
   "metadata": {},
   "outputs": [],
   "source": [
    "# Nettoyer la colonne 'Year' pour ne conserver que les chiffres\n",
    "imdb['Year'] = imdb['Year'].str.extract('(\\d+)', expand=False)\n",
    "\n",
    "# Convertir en entier (optionnel, si vous voulez avoir des valeurs numériques)\n",
    "imdb['Year'] = pd.to_numeric(imdb['Year'], errors='coerce')"
   ]
  },
  {
   "cell_type": "code",
   "execution_count": 423,
   "id": "7548b1df-3a97-400c-b331-7c49fa81d122",
   "metadata": {},
   "outputs": [
    {
     "name": "stderr",
     "output_type": "stream",
     "text": [
      "/var/folders/5q/f280wjd15s56_y9s5ntbx3rw0000gn/T/ipykernel_98386/3755493771.py:1: FutureWarning: A value is trying to be set on a copy of a DataFrame or Series through chained assignment using an inplace method.\n",
      "The behavior will change in pandas 3.0. This inplace method will never work because the intermediate object on which we are setting values always behaves as a copy.\n",
      "\n",
      "For example, when doing 'df[col].method(value, inplace=True)', try using 'df.method({col: value}, inplace=True)' or df[col] = df[col].method(value) instead, to perform the operation inplace on the original object.\n",
      "\n",
      "\n",
      "  imdb['Year'].fillna(0,inplace=True)\n"
     ]
    }
   ],
   "source": [
    "imdb['Year'].fillna(0,inplace=True)\n",
    "\n",
    "imdb['Year'] = imdb['Year'].astype('int64')"
   ]
  },
  {
   "cell_type": "markdown",
   "id": "ed22413b-a2e6-400b-884a-6d49e27a2514",
   "metadata": {},
   "source": [
    "#### Remove the Name column"
   ]
  },
  {
   "cell_type": "code",
   "execution_count": 424,
   "id": "a5480608-ddde-47a9-8e51-f30a4b4ac5db",
   "metadata": {},
   "outputs": [],
   "source": [
    "imdb.drop(columns=['Name'],inplace=True)"
   ]
  },
  {
   "cell_type": "markdown",
   "id": "8d31a0e5-28e9-48db-b2e0-e782f4b9b3bb",
   "metadata": {},
   "source": [
    "### Movies"
   ]
  },
  {
   "cell_type": "markdown",
   "id": "395f64a4-7508-48fe-b3e1-8e9ad0c3b3cd",
   "metadata": {},
   "source": [
    "#### Remove the index column, which seems useless"
   ]
  },
  {
   "cell_type": "code",
   "execution_count": 425,
   "id": "a5abde2a-dc76-46d4-a5a4-cfb9f20abad3",
   "metadata": {},
   "outputs": [],
   "source": [
    "movies.drop(columns=['index'],inplace=True)"
   ]
  },
  {
   "cell_type": "code",
   "execution_count": 426,
   "id": "e59f6986-8949-40c5-b3d2-0059e76d4045",
   "metadata": {},
   "outputs": [
    {
     "data": {
      "text/plain": [
       "title                 object\n",
       "original_language     object\n",
       "release_date          object\n",
       "popularity           float64\n",
       "vote_average         float64\n",
       "vote_count             int64\n",
       "overview              object\n",
       "dtype: object"
      ]
     },
     "execution_count": 426,
     "metadata": {},
     "output_type": "execute_result"
    }
   ],
   "source": [
    "movies.dtypes"
   ]
  },
  {
   "cell_type": "markdown",
   "id": "5065dcc3-11f1-45ed-9094-8b0b2ba0862b",
   "metadata": {},
   "source": [
    "#### Convert the original_language column into real language"
   ]
  },
  {
   "cell_type": "code",
   "execution_count": 427,
   "id": "bb4c041d-e0d6-4066-94c5-4dacbe8764f3",
   "metadata": {},
   "outputs": [],
   "source": [
    "# Mapping table to map every alias with a language\n",
    "language_mapping = {\n",
    "    'en': 'English',\n",
    "    'pl': 'Polish',\n",
    "    'ja': 'Japanese',\n",
    "    'ar': 'Arabic',\n",
    "    'fr': 'French',\n",
    "    'uk': 'Ukrainian',\n",
    "    'es': 'Spanish',\n",
    "    'fi': 'Finnish',\n",
    "    'nl': 'Dutch',\n",
    "    'ko': 'Korean',\n",
    "    'zh': 'Chinese',\n",
    "    'cn': 'Chinese',\n",
    "    'de': 'German',\n",
    "    'it': 'Italian',\n",
    "    'tl': 'Tagalog',\n",
    "    'ru': 'Russian',\n",
    "    'no': 'Norwegian',\n",
    "    'hi': 'Hindi',\n",
    "    'tr': 'Turkish',\n",
    "    'te': 'Telugu',\n",
    "    'pt': 'Portuguese',\n",
    "    'th': 'Thai',\n",
    "    'id': 'Indonesian',\n",
    "    'sv': 'Swedish',\n",
    "    'da': 'Danish',\n",
    "    'ga': 'Irish',\n",
    "    'ta': 'Tamil',\n",
    "    'cs': 'Czech',\n",
    "    'sr': 'Serbian',\n",
    "    'kn': 'Kannada',\n",
    "    'gl': 'Galician',\n",
    "    'vi': 'Vietnamese',\n",
    "    'el': 'Greek',\n",
    "    'bn': 'Bengali',\n",
    "    'ml': 'Malayalam',\n",
    "    'ro': 'Romanian',\n",
    "    'pa': 'Punjabi',\n",
    "    'fa': 'Persian',\n",
    "    'ka': 'Georgian',\n",
    "    'dz': 'Dzongkha',\n",
    "    'eu': 'Basque',\n",
    "    'km': 'Khmer',\n",
    "    'hu': 'Hungarian',\n",
    "    'la': 'Latin',\n",
    "    'lv': 'Latvian',\n",
    "    'nb': 'Norwegian Bokmål',\n",
    "    'ur': 'Urdu',\n",
    "    'kk': 'Kazakh'\n",
    "}"
   ]
  },
  {
   "cell_type": "code",
   "execution_count": 428,
   "id": "b6b357eb-4abe-49f0-b31f-8261f3838532",
   "metadata": {},
   "outputs": [],
   "source": [
    "movies['Language'] = movies['original_language'].map(language_mapping)"
   ]
  },
  {
   "cell_type": "markdown",
   "id": "8947f80a-ba00-4747-a5f9-a0d35170fb63",
   "metadata": {},
   "source": [
    "#### Drop the useless columns"
   ]
  },
  {
   "cell_type": "code",
   "execution_count": 429,
   "id": "217cece5-3470-4990-a16b-b9f9901259d7",
   "metadata": {},
   "outputs": [],
   "source": [
    "movies.drop(columns=['original_language','overview'],inplace=True)"
   ]
  },
  {
   "cell_type": "markdown",
   "id": "8387a443-4989-41a2-af1f-dc60f267d5f0",
   "metadata": {},
   "source": [
    "#### Date format for dates"
   ]
  },
  {
   "cell_type": "code",
   "execution_count": 430,
   "id": "47391275-ddcf-4535-b925-f3e116d047e0",
   "metadata": {},
   "outputs": [
    {
     "name": "stderr",
     "output_type": "stream",
     "text": [
      "/var/folders/5q/f280wjd15s56_y9s5ntbx3rw0000gn/T/ipykernel_98386/1211608248.py:1: UserWarning: Parsing dates in %d-%m-%Y format when dayfirst=False (the default) was specified. Pass `dayfirst=True` or specify a format to silence this warning.\n",
      "  movies['release_date'] = pd.to_datetime(movies['release_date'])\n"
     ]
    }
   ],
   "source": [
    "movies['release_date'] = pd.to_datetime(movies['release_date'])"
   ]
  },
  {
   "cell_type": "markdown",
   "id": "84df4f59-c474-495b-ba9d-e07e57a2e25c",
   "metadata": {},
   "source": [
    "#### Rename columns"
   ]
  },
  {
   "cell_type": "code",
   "execution_count": 431,
   "id": "d7d1c1d2-fec4-4f94-86d0-03af18886b25",
   "metadata": {},
   "outputs": [
    {
     "data": {
      "text/plain": [
       "Index(['title', 'release_date', 'popularity', 'vote_average', 'vote_count',\n",
       "       'Language'],\n",
       "      dtype='object')"
      ]
     },
     "execution_count": 431,
     "metadata": {},
     "output_type": "execute_result"
    }
   ],
   "source": [
    "movies.columns"
   ]
  },
  {
   "cell_type": "code",
   "execution_count": 432,
   "id": "011daa32-f3dd-4dd9-9a89-815d64fc8771",
   "metadata": {},
   "outputs": [],
   "source": [
    "movies.columns = ['Title', 'Release Date', 'Reach', 'Vote', 'Number of Votes', 'Language']"
   ]
  },
  {
   "cell_type": "markdown",
   "id": "291226b4-47e2-4bf3-8744-c2dd392c274f",
   "metadata": {},
   "source": [
    "### Korean Movies"
   ]
  },
  {
   "cell_type": "code",
   "execution_count": 433,
   "id": "21975c3c-8f6b-490e-a0b8-353061f47380",
   "metadata": {},
   "outputs": [
    {
     "data": {
      "text/plain": [
       "Name                  object\n",
       "Year of release        int64\n",
       "Aired Date            object\n",
       "Aired On              object\n",
       "Number of Episode      int64\n",
       "Network               object\n",
       "Duration              object\n",
       "Content Rating        object\n",
       "Synopsis              object\n",
       "Cast                  object\n",
       "Genre                 object\n",
       "Tags                  object\n",
       "Rank                  object\n",
       "Rating               float64\n",
       "dtype: object"
      ]
     },
     "execution_count": 433,
     "metadata": {},
     "output_type": "execute_result"
    }
   ],
   "source": [
    "k_movies.dtypes"
   ]
  },
  {
   "cell_type": "markdown",
   "id": "4919cee9-2de9-4d1b-8fcf-bc0b2fcf454a",
   "metadata": {},
   "source": [
    "#### Convert Broadcast Date to get a Start Date and an End Date"
   ]
  },
  {
   "cell_type": "code",
   "execution_count": 434,
   "id": "0229ef77-d61f-4984-8e06-01e75a5c30ed",
   "metadata": {},
   "outputs": [],
   "source": [
    "# Extract the dates while managing errors\n",
    "def extract_dates(date_range):\n",
    "    if pd.isna(date_range) or ' - ' not in date_range:\n",
    "        return pd.Series([pd.NaT, pd.NaT], index=['start_date', 'end_date'])\n",
    "    \n",
    "    try:\n",
    "        start_date_str, end_date_str = date_range.split(' - ')\n",
    "        start_date = datetime.strptime(start_date_str, '%b %d, %Y')\n",
    "        end_date = datetime.strptime(end_date_str, '%b %d, %Y')\n",
    "        return pd.Series([start_date, end_date], index=['start_date', 'end_date'])\n",
    "    except ValueError:\n",
    "        return pd.Series([pd.NaT, pd.NaT], index=['start_date', 'end_date'])\n",
    "\n",
    "# Extract dates\n",
    "k_movies[['Start Date', 'End Date']] = k_movies['Aired Date'].apply(extract_dates)"
   ]
  },
  {
   "cell_type": "markdown",
   "id": "7ec7770f-c4f9-47d7-b29f-1c4bb82e5710",
   "metadata": {},
   "source": [
    "#### Fill the NaT values in these 2 new columns"
   ]
  },
  {
   "cell_type": "code",
   "execution_count": 435,
   "id": "16aaab8f-c07b-450f-9bbb-e36d88addf55",
   "metadata": {},
   "outputs": [],
   "source": [
    "def fill_dates(row):\n",
    "    if pd.isna(row['Start Date']) and pd.isna(row['End Date']):\n",
    "        return pd.Series([row['Aired Date'], row['Aired Date']], index=['Start Date', 'End Date'])\n",
    "    return pd.Series([row['Start Date'], row['End Date']], index=['Start Date', 'End Date'])"
   ]
  },
  {
   "cell_type": "code",
   "execution_count": 436,
   "id": "b1fd601b-6f7a-441f-b281-fbdc030c0570",
   "metadata": {},
   "outputs": [],
   "source": [
    "k_movies[['Start Date', 'End Date']] = k_movies.apply(fill_dates, axis=1) #Apply to the 2 columns created"
   ]
  },
  {
   "cell_type": "markdown",
   "id": "54a5b9c6-c289-48f6-ac0a-4e34e5ee231a",
   "metadata": {},
   "source": [
    "#### Date format for Start Date and End Date"
   ]
  },
  {
   "cell_type": "code",
   "execution_count": 437,
   "id": "3d3f553f-588b-4766-8906-8e0f5754d054",
   "metadata": {},
   "outputs": [],
   "source": [
    "k_movies['Start Date'] = pd.to_datetime(k_movies['Start Date'],format='%b %d, %Y')"
   ]
  },
  {
   "cell_type": "code",
   "execution_count": 438,
   "id": "c119e4b1-c941-4195-bcb4-d9bdb62f32e1",
   "metadata": {},
   "outputs": [],
   "source": [
    "k_movies['End Date'] = pd.to_datetime(k_movies['End Date'],format='%b %d, %Y')"
   ]
  },
  {
   "cell_type": "markdown",
   "id": "88bb9a01-a341-4add-9086-8fba95ff2cfa",
   "metadata": {},
   "source": [
    "#### Convert the durations into minutes"
   ]
  },
  {
   "cell_type": "code",
   "execution_count": 439,
   "id": "bef568ea-b85d-4ad0-8c06-3ef64618a2ca",
   "metadata": {},
   "outputs": [],
   "source": [
    "# Convert durations into minutees\n",
    "def convert_duration_to_minutes(duration):\n",
    "    # Variables\n",
    "    hours = 0\n",
    "    minutes = 0\n",
    "\n",
    "    # Find hours\n",
    "    hours_match = re.search(r'(\\d+)\\s*hr\\.?', duration)\n",
    "    if hours_match:\n",
    "        hours = int(hours_match.group(1))\n",
    "    \n",
    "    # Find minutes\n",
    "    minutes_match = re.search(r'(\\d+)\\s*min\\.?', duration)\n",
    "    if minutes_match:\n",
    "        minutes = int(minutes_match.group(1))\n",
    "    \n",
    "    # Convert into total minutes\n",
    "    total_minutes = hours * 60 + minutes\n",
    "    return total_minutes\n",
    "\n",
    "# Apply the function\n",
    "k_movies['Duration'] = k_movies['Duration'].apply(convert_duration_to_minutes)"
   ]
  },
  {
   "cell_type": "markdown",
   "id": "37a2fb05-e393-4ad2-b7ea-df4ebe23d22f",
   "metadata": {},
   "source": [
    "#### Keep only the +Age in the Content Rating column"
   ]
  },
  {
   "cell_type": "code",
   "execution_count": 440,
   "id": "7d8959f0-3305-47b9-8b54-5c551301ca8a",
   "metadata": {},
   "outputs": [],
   "source": [
    "def extract_rating(rating):\n",
    "    # Check if it is a string\n",
    "    if isinstance(rating, str):\n",
    "        match = re.match(r'(\\d+\\+)', rating)\n",
    "        return match.group(1) if match else None\n",
    "    return None \n",
    "\n",
    "# Apply the function to the column Content Rating\n",
    "k_movies['Content Rating'] = k_movies['Content Rating'].apply(extract_rating)"
   ]
  },
  {
   "cell_type": "markdown",
   "id": "1b604dbe-2df0-45e2-8daf-f897a2345670",
   "metadata": {},
   "source": [
    "#### Convert ranks into Integers"
   ]
  },
  {
   "cell_type": "code",
   "execution_count": 441,
   "id": "03267a09-4664-4d76-888f-72ce7ccf66ab",
   "metadata": {},
   "outputs": [],
   "source": [
    "k_movies['Rank'] = k_movies['Rank'].str.strip('#').astype('int64')"
   ]
  },
  {
   "cell_type": "markdown",
   "id": "fa145c32-076a-4482-958e-25248d55b0be",
   "metadata": {},
   "source": [
    "#### Split Network in 2 columns to manage the programs broadcast on several networks"
   ]
  },
  {
   "cell_type": "code",
   "execution_count": 442,
   "id": "3c03c95b-ce98-4b2c-a835-4cdee2ec217e",
   "metadata": {},
   "outputs": [],
   "source": [
    "k_movies[['Network 1', 'Network 2']] = k_movies['Network'].str.split(', ', expand=True)"
   ]
  },
  {
   "cell_type": "code",
   "execution_count": 443,
   "id": "8b1b0549-d08d-4eb0-8202-a46a7fe0e3d6",
   "metadata": {},
   "outputs": [],
   "source": [
    "k_movies['Network 1'] = k_movies['Network 1'].str.strip()"
   ]
  },
  {
   "cell_type": "code",
   "execution_count": 444,
   "id": "434ab554-0d05-4afa-90fa-4e1ad80fac64",
   "metadata": {},
   "outputs": [],
   "source": [
    "k_movies['Network 2'] = k_movies['Network 2'].str.strip()"
   ]
  },
  {
   "cell_type": "markdown",
   "id": "be6c0dfc-2d89-48cb-8f2e-8b0a28154016",
   "metadata": {},
   "source": [
    "#### Split Genre in 2 columns to keep only the 2 main ones"
   ]
  },
  {
   "cell_type": "code",
   "execution_count": 445,
   "id": "ba286cbd-397f-48dd-8697-47084b335cc0",
   "metadata": {},
   "outputs": [],
   "source": [
    "# Separate data using the comma separator\n",
    "split_categories = k_movies['Genre'].str.split(', ', expand=True)\n",
    "\n",
    "# Keep only the 2 main genres\n",
    "k_movies[['Genre 1', 'Genre 2']] = split_categories.iloc[:, :2]"
   ]
  },
  {
   "cell_type": "code",
   "execution_count": 446,
   "id": "c24c37b9-6aa4-4fe6-8a8f-3a844f1f58ef",
   "metadata": {},
   "outputs": [],
   "source": [
    "# Separate data using the comma separator\n",
    "split_cast = k_movies['Cast'].str.split(', ', expand=True)\n",
    "\n",
    "# Keep only the 2 main actors\n",
    "k_movies[['Main Actor', 'Second Role']] = split_cast.iloc[:, :2]"
   ]
  },
  {
   "cell_type": "markdown",
   "id": "b0f0a38a-d3aa-4718-bacd-fa7eccb8134d",
   "metadata": {},
   "source": [
    "#### Remove useless columns"
   ]
  },
  {
   "cell_type": "code",
   "execution_count": 447,
   "id": "5e9f096e-d3fb-4ad5-a4b2-eb80da31ef5e",
   "metadata": {},
   "outputs": [
    {
     "data": {
      "text/plain": [
       "Index(['Name', 'Year of release', 'Aired Date', 'Aired On',\n",
       "       'Number of Episode', 'Network', 'Duration', 'Content Rating',\n",
       "       'Synopsis', 'Cast', 'Genre', 'Tags', 'Rank', 'Rating', 'Start Date',\n",
       "       'End Date', 'Network 1', 'Network 2', 'Genre 1', 'Genre 2',\n",
       "       'Main Actor', 'Second Role'],\n",
       "      dtype='object')"
      ]
     },
     "execution_count": 447,
     "metadata": {},
     "output_type": "execute_result"
    }
   ],
   "source": [
    "k_movies.columns"
   ]
  },
  {
   "cell_type": "code",
   "execution_count": 448,
   "id": "4e87b9ca-0d42-46e3-9342-4b966c439034",
   "metadata": {},
   "outputs": [],
   "source": [
    "k_movies.drop(columns=['Aired Date','Network','Synopsis','Cast','Genre'],inplace=True)"
   ]
  },
  {
   "cell_type": "code",
   "execution_count": 449,
   "id": "cb3016ff-5617-47b1-aa6f-ae5e65e57f2d",
   "metadata": {},
   "outputs": [
    {
     "data": {
      "text/html": [
       "<div>\n",
       "<style scoped>\n",
       "    .dataframe tbody tr th:only-of-type {\n",
       "        vertical-align: middle;\n",
       "    }\n",
       "\n",
       "    .dataframe tbody tr th {\n",
       "        vertical-align: top;\n",
       "    }\n",
       "\n",
       "    .dataframe thead th {\n",
       "        text-align: right;\n",
       "    }\n",
       "</style>\n",
       "<table border=\"1\" class=\"dataframe\">\n",
       "  <thead>\n",
       "    <tr style=\"text-align: right;\">\n",
       "      <th></th>\n",
       "      <th>Name</th>\n",
       "      <th>Year of release</th>\n",
       "      <th>Aired On</th>\n",
       "      <th>Number of Episode</th>\n",
       "      <th>Duration</th>\n",
       "      <th>Content Rating</th>\n",
       "      <th>Tags</th>\n",
       "      <th>Rank</th>\n",
       "      <th>Rating</th>\n",
       "      <th>Start Date</th>\n",
       "      <th>End Date</th>\n",
       "      <th>Network 1</th>\n",
       "      <th>Network 2</th>\n",
       "      <th>Genre 1</th>\n",
       "      <th>Genre 2</th>\n",
       "      <th>Main Actor</th>\n",
       "      <th>Second Role</th>\n",
       "    </tr>\n",
       "  </thead>\n",
       "  <tbody>\n",
       "    <tr>\n",
       "      <th>0</th>\n",
       "      <td>Move to Heaven</td>\n",
       "      <td>2021</td>\n",
       "      <td>Friday</td>\n",
       "      <td>10</td>\n",
       "      <td>52</td>\n",
       "      <td>18+</td>\n",
       "      <td>Autism, Uncle-Nephew Relationship, Death, Sava...</td>\n",
       "      <td>1</td>\n",
       "      <td>9.2</td>\n",
       "      <td>2021-05-14</td>\n",
       "      <td>2021-05-14</td>\n",
       "      <td>Netflix</td>\n",
       "      <td>None</td>\n",
       "      <td>Life</td>\n",
       "      <td>Drama</td>\n",
       "      <td>Lee Je Hoon</td>\n",
       "      <td>Tang Jun Sang</td>\n",
       "    </tr>\n",
       "    <tr>\n",
       "      <th>1</th>\n",
       "      <td>Hospital Playlist</td>\n",
       "      <td>2020</td>\n",
       "      <td>Thursday</td>\n",
       "      <td>12</td>\n",
       "      <td>90</td>\n",
       "      <td>15+</td>\n",
       "      <td>Strong Friendship, Multiple Mains, Best Friend...</td>\n",
       "      <td>2</td>\n",
       "      <td>9.1</td>\n",
       "      <td>2020-03-12</td>\n",
       "      <td>2020-05-28</td>\n",
       "      <td>Netflix</td>\n",
       "      <td>tvN</td>\n",
       "      <td>Friendship</td>\n",
       "      <td>Romance</td>\n",
       "      <td>Jo Jung Suk</td>\n",
       "      <td>Yoo Yeon Seok</td>\n",
       "    </tr>\n",
       "    <tr>\n",
       "      <th>2</th>\n",
       "      <td>Flower of Evil</td>\n",
       "      <td>2020</td>\n",
       "      <td>Wednesday, Thursday</td>\n",
       "      <td>16</td>\n",
       "      <td>70</td>\n",
       "      <td>15+</td>\n",
       "      <td>Married Couple, Deception, Suspense, Family Se...</td>\n",
       "      <td>3</td>\n",
       "      <td>9.1</td>\n",
       "      <td>2020-07-29</td>\n",
       "      <td>2020-09-23</td>\n",
       "      <td>tvN</td>\n",
       "      <td>None</td>\n",
       "      <td>Thriller</td>\n",
       "      <td>Romance</td>\n",
       "      <td>Lee Joon Gi</td>\n",
       "      <td>Moon Chae Won</td>\n",
       "    </tr>\n",
       "    <tr>\n",
       "      <th>3</th>\n",
       "      <td>Hospital Playlist 2</td>\n",
       "      <td>2021</td>\n",
       "      <td>Thursday</td>\n",
       "      <td>12</td>\n",
       "      <td>100</td>\n",
       "      <td>15+</td>\n",
       "      <td>Workplace, Strong Friendship, Best Friends, Mu...</td>\n",
       "      <td>4</td>\n",
       "      <td>9.1</td>\n",
       "      <td>2021-06-17</td>\n",
       "      <td>2021-09-16</td>\n",
       "      <td>Netflix</td>\n",
       "      <td>tvN</td>\n",
       "      <td>Friendship</td>\n",
       "      <td>Romance</td>\n",
       "      <td>Jo Jung Suk</td>\n",
       "      <td>Yoo Yeon Seok</td>\n",
       "    </tr>\n",
       "    <tr>\n",
       "      <th>4</th>\n",
       "      <td>My Mister</td>\n",
       "      <td>2018</td>\n",
       "      <td>Wednesday, Thursday</td>\n",
       "      <td>16</td>\n",
       "      <td>77</td>\n",
       "      <td>15+</td>\n",
       "      <td>Age Gap, Nice Male Lead, Strong Female Lead, H...</td>\n",
       "      <td>5</td>\n",
       "      <td>9.1</td>\n",
       "      <td>2018-03-21</td>\n",
       "      <td>2018-05-17</td>\n",
       "      <td>tvN</td>\n",
       "      <td>None</td>\n",
       "      <td>Psychological</td>\n",
       "      <td>Life</td>\n",
       "      <td>Lee Sun Kyun</td>\n",
       "      <td>IU</td>\n",
       "    </tr>\n",
       "    <tr>\n",
       "      <th>...</th>\n",
       "      <td>...</td>\n",
       "      <td>...</td>\n",
       "      <td>...</td>\n",
       "      <td>...</td>\n",
       "      <td>...</td>\n",
       "      <td>...</td>\n",
       "      <td>...</td>\n",
       "      <td>...</td>\n",
       "      <td>...</td>\n",
       "      <td>...</td>\n",
       "      <td>...</td>\n",
       "      <td>...</td>\n",
       "      <td>...</td>\n",
       "      <td>...</td>\n",
       "      <td>...</td>\n",
       "      <td>...</td>\n",
       "      <td>...</td>\n",
       "    </tr>\n",
       "    <tr>\n",
       "      <th>95</th>\n",
       "      <td>Vagabond</td>\n",
       "      <td>2019</td>\n",
       "      <td>Friday, Saturday</td>\n",
       "      <td>16</td>\n",
       "      <td>70</td>\n",
       "      <td>15+</td>\n",
       "      <td>Plane Crash, Revenge, National Intelligence Se...</td>\n",
       "      <td>96</td>\n",
       "      <td>8.5</td>\n",
       "      <td>2019-09-20</td>\n",
       "      <td>2019-11-23</td>\n",
       "      <td>Netflix</td>\n",
       "      <td>SBS</td>\n",
       "      <td>Action</td>\n",
       "      <td>Thriller</td>\n",
       "      <td>Lee Seung Gi</td>\n",
       "      <td>Bae Suzy</td>\n",
       "    </tr>\n",
       "    <tr>\n",
       "      <th>96</th>\n",
       "      <td>Doctor John</td>\n",
       "      <td>2019</td>\n",
       "      <td>Friday, Saturday</td>\n",
       "      <td>32</td>\n",
       "      <td>35</td>\n",
       "      <td>15+</td>\n",
       "      <td>Smart Male Lead, Incurable Disease, Eccentric ...</td>\n",
       "      <td>97</td>\n",
       "      <td>8.5</td>\n",
       "      <td>2019-07-19</td>\n",
       "      <td>2019-09-07</td>\n",
       "      <td>SBS</td>\n",
       "      <td>None</td>\n",
       "      <td>Mystery</td>\n",
       "      <td>Romance</td>\n",
       "      <td>Ji Sung</td>\n",
       "      <td>Lee Se Young</td>\n",
       "    </tr>\n",
       "    <tr>\n",
       "      <th>97</th>\n",
       "      <td>When the Camellia Blooms</td>\n",
       "      <td>2019</td>\n",
       "      <td>Wednesday, Thursday</td>\n",
       "      <td>40</td>\n",
       "      <td>35</td>\n",
       "      <td>15+</td>\n",
       "      <td>Single Mother, Mystery, Motherhood, Serial Kil...</td>\n",
       "      <td>98</td>\n",
       "      <td>8.5</td>\n",
       "      <td>2019-09-18</td>\n",
       "      <td>2019-11-21</td>\n",
       "      <td>KBS2</td>\n",
       "      <td>Netflix</td>\n",
       "      <td>Thriller</td>\n",
       "      <td>Comedy</td>\n",
       "      <td>Gong Hyo Jin</td>\n",
       "      <td>Kang Ha Neul</td>\n",
       "    </tr>\n",
       "    <tr>\n",
       "      <th>98</th>\n",
       "      <td>Because This Is My First Life</td>\n",
       "      <td>2017</td>\n",
       "      <td>Monday, Tuesday</td>\n",
       "      <td>16</td>\n",
       "      <td>70</td>\n",
       "      <td>15+</td>\n",
       "      <td>Contract Relationship, Marriage Of Convenience...</td>\n",
       "      <td>99</td>\n",
       "      <td>8.5</td>\n",
       "      <td>2017-10-09</td>\n",
       "      <td>2017-11-28</td>\n",
       "      <td>tvN</td>\n",
       "      <td>None</td>\n",
       "      <td>Comedy</td>\n",
       "      <td>Romance</td>\n",
       "      <td>Jung So Min</td>\n",
       "      <td>Lee Min Ki</td>\n",
       "    </tr>\n",
       "    <tr>\n",
       "      <th>99</th>\n",
       "      <td>Fight For My Way</td>\n",
       "      <td>2017</td>\n",
       "      <td>Monday, Tuesday</td>\n",
       "      <td>16</td>\n",
       "      <td>60</td>\n",
       "      <td>15+</td>\n",
       "      <td>Childhood Friends, Friends To Lovers, Strong M...</td>\n",
       "      <td>100</td>\n",
       "      <td>8.5</td>\n",
       "      <td>2017-05-22</td>\n",
       "      <td>2017-07-11</td>\n",
       "      <td>KBS2</td>\n",
       "      <td>None</td>\n",
       "      <td>Business</td>\n",
       "      <td>Comedy</td>\n",
       "      <td>Park Seo Joon</td>\n",
       "      <td>Kim Ji Won</td>\n",
       "    </tr>\n",
       "  </tbody>\n",
       "</table>\n",
       "<p>100 rows × 17 columns</p>\n",
       "</div>"
      ],
      "text/plain": [
       "                             Name  Year of release              Aired On  \\\n",
       "0                  Move to Heaven             2021                Friday   \n",
       "1               Hospital Playlist             2020              Thursday   \n",
       "2                  Flower of Evil             2020   Wednesday, Thursday   \n",
       "3             Hospital Playlist 2             2021              Thursday   \n",
       "4                       My Mister             2018   Wednesday, Thursday   \n",
       "..                            ...              ...                   ...   \n",
       "95                       Vagabond             2019      Friday, Saturday   \n",
       "96                    Doctor John             2019      Friday, Saturday   \n",
       "97       When the Camellia Blooms             2019   Wednesday, Thursday   \n",
       "98  Because This Is My First Life             2017       Monday, Tuesday   \n",
       "99               Fight For My Way             2017       Monday, Tuesday   \n",
       "\n",
       "    Number of Episode  Duration Content Rating  \\\n",
       "0                  10        52            18+   \n",
       "1                  12        90            15+   \n",
       "2                  16        70            15+   \n",
       "3                  12       100            15+   \n",
       "4                  16        77            15+   \n",
       "..                ...       ...            ...   \n",
       "95                 16        70            15+   \n",
       "96                 32        35            15+   \n",
       "97                 40        35            15+   \n",
       "98                 16        70            15+   \n",
       "99                 16        60            15+   \n",
       "\n",
       "                                                 Tags  Rank  Rating  \\\n",
       "0   Autism, Uncle-Nephew Relationship, Death, Sava...     1     9.2   \n",
       "1   Strong Friendship, Multiple Mains, Best Friend...     2     9.1   \n",
       "2   Married Couple, Deception, Suspense, Family Se...     3     9.1   \n",
       "3   Workplace, Strong Friendship, Best Friends, Mu...     4     9.1   \n",
       "4   Age Gap, Nice Male Lead, Strong Female Lead, H...     5     9.1   \n",
       "..                                                ...   ...     ...   \n",
       "95  Plane Crash, Revenge, National Intelligence Se...    96     8.5   \n",
       "96  Smart Male Lead, Incurable Disease, Eccentric ...    97     8.5   \n",
       "97  Single Mother, Mystery, Motherhood, Serial Kil...    98     8.5   \n",
       "98  Contract Relationship, Marriage Of Convenience...    99     8.5   \n",
       "99  Childhood Friends, Friends To Lovers, Strong M...   100     8.5   \n",
       "\n",
       "   Start Date   End Date Network 1 Network 2        Genre 1    Genre 2  \\\n",
       "0  2021-05-14 2021-05-14   Netflix      None           Life      Drama   \n",
       "1  2020-03-12 2020-05-28   Netflix       tvN     Friendship    Romance   \n",
       "2  2020-07-29 2020-09-23       tvN      None       Thriller    Romance   \n",
       "3  2021-06-17 2021-09-16   Netflix       tvN     Friendship    Romance   \n",
       "4  2018-03-21 2018-05-17       tvN      None  Psychological       Life   \n",
       "..        ...        ...       ...       ...            ...        ...   \n",
       "95 2019-09-20 2019-11-23   Netflix       SBS         Action   Thriller   \n",
       "96 2019-07-19 2019-09-07       SBS      None        Mystery    Romance   \n",
       "97 2019-09-18 2019-11-21      KBS2   Netflix       Thriller     Comedy   \n",
       "98 2017-10-09 2017-11-28       tvN      None         Comedy    Romance   \n",
       "99 2017-05-22 2017-07-11      KBS2      None       Business     Comedy   \n",
       "\n",
       "       Main Actor    Second Role  \n",
       "0     Lee Je Hoon  Tang Jun Sang  \n",
       "1     Jo Jung Suk  Yoo Yeon Seok  \n",
       "2     Lee Joon Gi  Moon Chae Won  \n",
       "3     Jo Jung Suk  Yoo Yeon Seok  \n",
       "4    Lee Sun Kyun             IU  \n",
       "..            ...            ...  \n",
       "95   Lee Seung Gi       Bae Suzy  \n",
       "96        Ji Sung   Lee Se Young  \n",
       "97   Gong Hyo Jin   Kang Ha Neul  \n",
       "98    Jung So Min     Lee Min Ki  \n",
       "99  Park Seo Joon     Kim Ji Won  \n",
       "\n",
       "[100 rows x 17 columns]"
      ]
     },
     "execution_count": 449,
     "metadata": {},
     "output_type": "execute_result"
    }
   ],
   "source": [
    "k_movies"
   ]
  },
  {
   "cell_type": "markdown",
   "id": "d97bbc1d-0217-47f4-bc31-500cfb7adcd4",
   "metadata": {},
   "source": [
    "## Export"
   ]
  },
  {
   "cell_type": "markdown",
   "id": "7f5b31ce-5730-49c2-b1df-c4a8360a3d59",
   "metadata": {},
   "source": [
    "### ATP"
   ]
  },
  {
   "cell_type": "code",
   "execution_count": 452,
   "id": "516a5074-bede-4dc0-a26b-cb13f727aaf1",
   "metadata": {},
   "outputs": [],
   "source": [
    "atp.to_csv('Outputs/atp.csv')"
   ]
  },
  {
   "cell_type": "markdown",
   "id": "53a39e2c-514c-4618-8c2c-e96c2a0613e7",
   "metadata": {},
   "source": [
    "### World Cup"
   ]
  },
  {
   "cell_type": "code",
   "execution_count": 453,
   "id": "8ad04bb3-2cc3-4fff-86a1-d89768245c34",
   "metadata": {},
   "outputs": [],
   "source": [
    "wc22.to_csv('Outputs/wc22.csv')"
   ]
  },
  {
   "cell_type": "markdown",
   "id": "4f381a37-4752-4715-9f0a-8b45e7bd3fdb",
   "metadata": {},
   "source": [
    "### Sports Events"
   ]
  }
 ],
 "metadata": {
  "kernelspec": {
   "display_name": "Python 3 (ipykernel)",
   "language": "python",
   "name": "python3"
  },
  "language_info": {
   "codemirror_mode": {
    "name": "ipython",
    "version": 3
   },
   "file_extension": ".py",
   "mimetype": "text/x-python",
   "name": "python",
   "nbconvert_exporter": "python",
   "pygments_lexer": "ipython3",
   "version": "3.11.5"
  }
 },
 "nbformat": 4,
 "nbformat_minor": 5
}
